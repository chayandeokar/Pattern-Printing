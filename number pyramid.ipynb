{
 "cells": [
  {
   "cell_type": "code",
   "execution_count": 11,
   "id": "c7bab1f7",
   "metadata": {},
   "outputs": [],
   "source": [
    "def pyamid(n):\n",
    "    for i in range(0,n):\n",
    "        for j in range(0 , i+1):\n",
    "            print(\"* \" , end=\"\")\n",
    "        print(\"\\r\")\n",
    "            "
   ]
  },
  {
   "cell_type": "code",
   "execution_count": 12,
   "id": "ea1739ae",
   "metadata": {},
   "outputs": [],
   "source": [
    "n = 5"
   ]
  },
  {
   "cell_type": "code",
   "execution_count": 13,
   "id": "e097327f",
   "metadata": {},
   "outputs": [
    {
     "name": "stdout",
     "output_type": "stream",
     "text": [
      "* \r\n",
      "* * \r\n",
      "* * * \r\n",
      "* * * * \r\n",
      "* * * * * \r\n"
     ]
    }
   ],
   "source": [
    "pyamid(n)"
   ]
  },
  {
   "cell_type": "code",
   "execution_count": 21,
   "id": "3364d013",
   "metadata": {},
   "outputs": [],
   "source": [
    "def pyamid(n):\n",
    "    count = 1\n",
    "    for i in range(0 ,n):\n",
    "        for j in range(0 , i+1):\n",
    "            print(count , end=\" \")\n",
    "            count = count + 1\n",
    "        print(\"\\r\")"
   ]
  },
  {
   "cell_type": "code",
   "execution_count": 22,
   "id": "6b4ff94c",
   "metadata": {},
   "outputs": [
    {
     "name": "stdout",
     "output_type": "stream",
     "text": [
      "1 \r\n",
      "2 3 \r\n",
      "4 5 6 \r\n",
      "7 8 9 10 \r\n",
      "11 12 13 14 15 \r\n",
      "16 17 18 19 20 21 \r\n",
      "22 23 24 25 26 27 28 \r\n"
     ]
    }
   ],
   "source": [
    "n = 7\n",
    "pyamid(7)"
   ]
  },
  {
   "cell_type": "code",
   "execution_count": null,
   "id": "f096c7e1",
   "metadata": {},
   "outputs": [],
   "source": []
  }
 ],
 "metadata": {
  "kernelspec": {
   "display_name": "Python 3 (ipykernel)",
   "language": "python",
   "name": "python3"
  },
  "language_info": {
   "codemirror_mode": {
    "name": "ipython",
    "version": 3
   },
   "file_extension": ".py",
   "mimetype": "text/x-python",
   "name": "python",
   "nbconvert_exporter": "python",
   "pygments_lexer": "ipython3",
   "version": "3.10.2"
  }
 },
 "nbformat": 4,
 "nbformat_minor": 5
}
